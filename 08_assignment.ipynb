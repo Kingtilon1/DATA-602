{
  "cells": [
    {
      "cell_type": "markdown",
      "metadata": {
        "id": "view-in-github"
      },
      "source": [
        "<a href=\"https://colab.research.google.com/github/data602sps/assignments/blob/master/05_assignment.ipynb\" target=\"_parent\"><img src=\"https://colab.research.google.com/assets/colab-badge.svg\" alt=\"Open In Colab\"/></a>"
      ]
    },
    {
      "cell_type": "markdown",
      "metadata": {
        "id": "rd2QZetSDszc"
      },
      "source": [
        "# **Assignment 8**\n",
        "\n",
        "# **Weeks 10 & 11 - matplotlib & seaborn**\n",
        "* In this homework assignment, you will explore and analyze a public dataset of your choosing. Since this assignment is “open-ended” in nature, you are free to expand upon the requirements below. However, you must meet the minimum requirments as indicated in each section. \n",
        "\n",
        "\n",
        "* The preferred method for this analysis is in a .ipynb file. Feel free to use whichever platform of your choosing.  \n",
        "\n",
        "\n",
        "### **Some data examples:**\n",
        "•\thttps://www.data.gov/\n",
        "\n",
        "•\thttps://opendata.cityofnewyork.us/\n",
        "\n",
        "•\thttps://datasetsearch.research.google.com/\n",
        "\n",
        "•\thttps://archive.ics.uci.edu/ml/index.php\n",
        "\n",
        "### **Resources:**\n",
        "\n",
        "•\thttps://pandas.pydata.org/pandas-docs/stable/getting_started/10min.html \n",
        "\n",
        "•\thttps://www.oreilly.com/library/view/python-data-science/9781491912126/ch04.html\n",
        "\n",
        "•\thttps://www.data-to-viz.com/\n",
        "\n",
        "\n",
        "\n",
        "### **Headings or comments**\n",
        "**You are required to make use of comments, or headings for each section.  You must explain what your code is doing, and the results of running your code.**  Act as if you were giving this assignment to your manager - you must include clear and descriptive information for each section.\n",
        "\n",
        "### **You may work as a group or indivdually on this assignment.**\n"
      ]
    },
    {
      "cell_type": "markdown",
      "metadata": {
        "id": "uW3w6p8rqgxu"
      },
      "source": [
        "# Introduction\n",
        "\n",
        "In this section, please describe the dataset you are using.  Include a link to the source of this data.  You should also provide some explanation on why you choose this dataset."
      ]
    },
    {
      "cell_type": "markdown",
      "metadata": {
        "id": "L0PnfMOFzOXz"
      },
      "source": []
    },
    {
      "cell_type": "markdown",
      "metadata": {
        "id": "3bp8cdDxDs2t"
      },
      "source": [
        "______________\n",
        "# Data Exploration\n",
        "Import your dataset into your .ipynb, create dataframes, and explore your data.  \n",
        "\n",
        "Include: \n",
        "\n",
        "* Summary statistics means, medians, quartiles, \n",
        "* Missing value information\n",
        "* Any other relevant information about the dataset.  \n",
        "\n"
      ]
    },
    {
      "cell_type": "code",
      "execution_count": 40,
      "metadata": {
        "id": "3NUlO_ru1WqR"
      },
      "outputs": [
        {
          "name": "stdout",
          "output_type": "stream",
          "text": [
            "     Year  Population  Total  Violent  Property  Murder  Forcible_Rape  \\\n",
            "0   False       False  False    False     False   False          False   \n",
            "1   False       False  False    False     False   False          False   \n",
            "2   False       False  False    False     False   False          False   \n",
            "3   False       False  False    False     False   False          False   \n",
            "4   False       False  False    False     False   False          False   \n",
            "5   False       False  False    False     False   False          False   \n",
            "6   False       False  False    False     False   False          False   \n",
            "7   False       False  False    False     False   False          False   \n",
            "8   False       False  False    False     False   False          False   \n",
            "9   False       False  False    False     False   False          False   \n",
            "10  False       False  False    False     False   False          False   \n",
            "11  False       False  False    False     False   False          False   \n",
            "12  False       False  False    False     False   False          False   \n",
            "13  False       False  False    False     False   False          False   \n",
            "14  False       False  False    False     False   False          False   \n",
            "15  False       False  False    False     False   False          False   \n",
            "16  False       False  False    False     False   False          False   \n",
            "17  False       False  False    False     False   False          False   \n",
            "18  False       False  False    False     False   False          False   \n",
            "19  False       False  False    False     False   False          False   \n",
            "20  False       False  False    False     False   False          False   \n",
            "21  False       False  False    False     False   False          False   \n",
            "22  False       False  False    False     False   False          False   \n",
            "23  False       False  False    False     False   False          False   \n",
            "24  False       False  False    False     False   False          False   \n",
            "25  False       False  False    False     False   False          False   \n",
            "26  False       False  False    False     False   False          False   \n",
            "27  False       False  False    False     False   False          False   \n",
            "28  False       False  False    False     False   False          False   \n",
            "29  False       False  False    False     False   False          False   \n",
            "30  False       False  False    False     False   False          False   \n",
            "31  False       False  False    False     False   False          False   \n",
            "32  False       False  False    False     False   False          False   \n",
            "33  False       False  False    False     False   False          False   \n",
            "34  False       False  False    False     False   False          False   \n",
            "35  False       False  False    False     False   False          False   \n",
            "36  False       False  False    False     False   False          False   \n",
            "37  False       False  False    False     False   False          False   \n",
            "38  False       False  False    False     False   False          False   \n",
            "39  False       False  False    False     False   False          False   \n",
            "40  False       False  False    False     False   False          False   \n",
            "41  False       False  False    False     False   False          False   \n",
            "42  False       False  False    False     False   False          False   \n",
            "43  False       False  False    False     False   False          False   \n",
            "44  False       False  False    False     False   False          False   \n",
            "45  False       False  False    False     False   False          False   \n",
            "46  False       False  False    False     False   False          False   \n",
            "47  False       False  False    False     False   False          False   \n",
            "48  False       False  False    False     False   False          False   \n",
            "49  False       False  False    False     False   False          False   \n",
            "50  False       False  False    False     False   False          False   \n",
            "51  False       False  False    False     False   False          False   \n",
            "52  False       False  False    False     False   False          False   \n",
            "53  False       False  False    False     False   False          False   \n",
            "54  False       False  False    False     False   False          False   \n",
            "\n",
            "    Robbery  Aggravated_assault  Burglary  Larceny_Theft  Vehicle_Theft  \n",
            "0     False               False     False          False          False  \n",
            "1     False               False     False          False          False  \n",
            "2     False               False     False          False          False  \n",
            "3     False               False     False          False          False  \n",
            "4     False               False     False          False          False  \n",
            "5     False               False     False          False          False  \n",
            "6     False               False     False          False          False  \n",
            "7     False               False     False          False          False  \n",
            "8     False               False     False          False          False  \n",
            "9     False               False     False          False          False  \n",
            "10    False               False     False          False          False  \n",
            "11    False               False     False          False          False  \n",
            "12    False               False     False          False          False  \n",
            "13    False               False     False          False          False  \n",
            "14    False               False     False          False          False  \n",
            "15    False               False     False          False          False  \n",
            "16    False               False     False          False          False  \n",
            "17    False               False     False          False          False  \n",
            "18    False               False     False          False          False  \n",
            "19    False               False     False          False          False  \n",
            "20    False               False     False          False          False  \n",
            "21    False               False     False          False          False  \n",
            "22    False               False     False          False          False  \n",
            "23    False               False     False          False          False  \n",
            "24    False               False     False          False          False  \n",
            "25    False               False     False          False          False  \n",
            "26    False               False     False          False          False  \n",
            "27    False               False     False          False          False  \n",
            "28    False               False     False          False          False  \n",
            "29    False               False     False          False          False  \n",
            "30    False               False     False          False          False  \n",
            "31    False               False     False          False          False  \n",
            "32    False               False     False          False          False  \n",
            "33    False               False     False          False          False  \n",
            "34    False               False     False          False          False  \n",
            "35    False               False     False          False          False  \n",
            "36    False               False     False          False          False  \n",
            "37    False               False     False          False          False  \n",
            "38    False               False     False          False          False  \n",
            "39    False               False     False          False          False  \n",
            "40    False               False     False          False          False  \n",
            "41    False               False     False          False          False  \n",
            "42    False               False     False          False          False  \n",
            "43    False               False     False          False          False  \n",
            "44    False               False     False          False          False  \n",
            "45    False               False     False          False          False  \n",
            "46    False               False     False          False          False  \n",
            "47    False               False     False          False          False  \n",
            "48    False               False     False          False          False  \n",
            "49    False               False     False          False          False  \n",
            "50    False               False     False          False          False  \n",
            "51    False               False     False          False          False  \n",
            "52    False               False     False          False          False  \n",
            "53    False               False     False          False          False  \n",
            "54    False               False     False          False          False  \n"
          ]
        }
      ],
      "source": [
        "import pandas as pd \n",
        "crimes = pd.read_csv(\"https://raw.githubusercontent.com/Kingtilon1/DATA-602/main/US_Crime_Rates_1960_2014.csv\")\n",
        "## check for na values\n",
        "print(crimes.isna())\n"
      ]
    },
    {
      "cell_type": "code",
      "execution_count": 27,
      "metadata": {},
      "outputs": [
        {
          "name": "stdout",
          "output_type": "stream",
          "text": [
            "<class 'pandas.core.frame.DataFrame'>\n",
            "RangeIndex: 55 entries, 0 to 54\n",
            "Data columns (total 12 columns):\n",
            " #   Column              Non-Null Count  Dtype\n",
            "---  ------              --------------  -----\n",
            " 0   Year                55 non-null     int64\n",
            " 1   Population          55 non-null     int64\n",
            " 2   Total               55 non-null     int64\n",
            " 3   Violent             55 non-null     int64\n",
            " 4   Property            55 non-null     int64\n",
            " 5   Murder              55 non-null     int64\n",
            " 6   Forcible_Rape       55 non-null     int64\n",
            " 7   Robbery             55 non-null     int64\n",
            " 8   Aggravated_assault  55 non-null     int64\n",
            " 9   Burglary            55 non-null     int64\n",
            " 10  Larceny_Theft       55 non-null     int64\n",
            " 11  Vehicle_Theft       55 non-null     int64\n",
            "dtypes: int64(12)\n",
            "memory usage: 5.3 KB\n",
            "None\n",
            "             Year    Population         Total       Violent      Property  \\\n",
            "count    55.00000  5.500000e+01  5.500000e+01  5.500000e+01  5.500000e+01   \n",
            "mean   1987.00000  2.461556e+08  1.060315e+07  1.188806e+06  9.412499e+06   \n",
            "std      16.02082  4.166216e+07  3.175931e+06  4.597107e+05  2.738512e+06   \n",
            "min    1960.00000  1.793232e+08  3.384200e+06  2.884600e+05  3.095700e+06   \n",
            "25%    1973.50000  2.106215e+08  9.096958e+06  9.253150e+05  8.060014e+06   \n",
            "50%    1987.00000  2.422829e+08  1.140151e+07  1.322390e+06  1.018259e+07   \n",
            "75%    2000.50000  2.833697e+08  1.308449e+07  1.432762e+06  1.160509e+07   \n",
            "max    2014.00000  3.188571e+08  1.487290e+07  1.932270e+06  1.296110e+07   \n",
            "\n",
            "             Murder  Forcible_Rape        Robbery  Aggravated_assault  \\\n",
            "count     55.000000      55.000000      55.000000        5.500000e+01   \n",
            "mean   17317.236364   72714.800000  416449.890909        6.811818e+05   \n",
            "std     4267.442664   28278.006893  150506.403782        2.960255e+05   \n",
            "min     8530.000000   17190.000000  106670.000000        1.543200e+05   \n",
            "25%    14819.000000   53400.000000  354911.500000        4.384300e+05   \n",
            "50%    17030.000000   84230.000000  423557.000000        7.412910e+05   \n",
            "75%    20561.500000   92930.000000  512137.000000        9.002150e+05   \n",
            "max    24700.000000  109060.000000  687730.000000        1.135610e+06   \n",
            "\n",
            "           Burglary  Larceny_Theft  Vehicle_Theft  \n",
            "count  5.500000e+01   5.500000e+01   5.500000e+01  \n",
            "mean   2.424017e+06   5.959947e+06   1.028614e+06  \n",
            "std    7.259004e+05   1.846401e+06   3.455693e+05  \n",
            "min    9.121000e+05   1.855400e+06   3.282000e+05  \n",
            "25%    2.105336e+06   4.843350e+06   7.896260e+05  \n",
            "50%    2.329950e+06   6.591900e+06   1.032200e+06  \n",
            "75%    3.073600e+06   7.168450e+06   1.239302e+06  \n",
            "max    3.795200e+06   8.142200e+06   1.661700e+06  \n"
          ]
        }
      ],
      "source": [
        "## dataframe info\n",
        "print(crimes.info())\n",
        "## summary statistics\n",
        "print(crimes.describe())"
      ]
    },
    {
      "cell_type": "markdown",
      "metadata": {
        "id": "kCSLIafaEGVK"
      },
      "source": [
        "# Data Wrangling\n",
        "\n",
        "Perform data wrangling.  You are free to use your best judgment here.  If you are stuck, look at previous assignment."
      ]
    },
    {
      "cell_type": "code",
      "execution_count": 41,
      "metadata": {
        "id": "xEkLsm7g1UiZ"
      },
      "outputs": [],
      "source": [
        "## drop the violent column in the data set \n",
        "crimes.drop('Violent', axis=1, inplace=True)\n",
        "#sort data frame based on crime\n",
        "crimes = crimes.sort_values(by=['Total'], ascending=False)"
      ]
    },
    {
      "cell_type": "code",
      "execution_count": 51,
      "metadata": {},
      "outputs": [
        {
          "name": "stdout",
          "output_type": "stream",
          "text": [
            "    Year     mean    min    max\n",
            "0   1960   9110.0   9110   9110\n",
            "1   1961   8740.0   8740   8740\n",
            "2   1962   8530.0   8530   8530\n",
            "3   1963   8640.0   8640   8640\n",
            "4   1964   9360.0   9360   9360\n",
            "5   1965   9960.0   9960   9960\n",
            "6   1966  11040.0  11040  11040\n",
            "7   1967  12240.0  12240  12240\n",
            "8   1968  13800.0  13800  13800\n",
            "9   1969  14760.0  14760  14760\n",
            "10  1970  16000.0  16000  16000\n",
            "11  1971  17780.0  17780  17780\n",
            "12  1972  18670.0  18670  18670\n",
            "13  1973  19640.0  19640  19640\n",
            "14  1974  20710.0  20710  20710\n",
            "15  1975  20510.0  20510  20510\n",
            "16  1976  18780.0  18780  18780\n",
            "17  1977  19120.0  19120  19120\n",
            "18  1978  19560.0  19560  19560\n",
            "19  1979  21460.0  21460  21460\n",
            "20  1980  23040.0  23040  23040\n",
            "21  1981  22520.0  22520  22520\n",
            "22  1982  21010.0  21010  21010\n",
            "23  1983  19310.0  19310  19310\n",
            "24  1984  18690.0  18690  18690\n",
            "25  1985  18980.0  18980  18980\n",
            "26  1986  20613.0  20613  20613\n",
            "27  1987  20096.0  20096  20096\n",
            "28  1988  20680.0  20680  20680\n",
            "29  1989  21500.0  21500  21500\n",
            "30  1990  23440.0  23440  23440\n",
            "31  1991  24700.0  24700  24700\n",
            "32  1992  23760.0  23760  23760\n",
            "33  1993  24530.0  24530  24530\n",
            "34  1994  23330.0  23330  23330\n",
            "35  1995  21610.0  21610  21610\n",
            "36  1996  19650.0  19650  19650\n",
            "37  1997  18208.0  18208  18208\n",
            "38  1998  16914.0  16914  16914\n",
            "39  1999  15522.0  15522  15522\n",
            "40  2000  15586.0  15586  15586\n",
            "41  2001  16037.0  16037  16037\n",
            "42  2002  16229.0  16229  16229\n",
            "43  2003  16528.0  16528  16528\n",
            "44  2004  16148.0  16148  16148\n",
            "45  2005  16740.0  16740  16740\n",
            "46  2006  17030.0  17030  17030\n",
            "47  2007  16929.0  16929  16929\n",
            "48  2008  16442.0  16442  16442\n",
            "49  2009  15399.0  15399  15399\n",
            "50  2010  14772.0  14772  14772\n",
            "51  2011  14661.0  14661  14661\n",
            "52  2012  14866.0  14866  14866\n",
            "53  2013  14319.0  14319  14319\n",
            "54  2014  14249.0  14249  14249\n"
          ]
        }
      ],
      "source": [
        "## Group the data by year and calculate the mean, max and min for every year\n",
        "grouped_data = crimes.groupby('Year')['Murder'].agg(['mean', 'min', 'max'])\n",
        "\n",
        "grouped_data = grouped_data.reset_index()\n",
        "\n",
        "## Sort the data by the highest average\n",
        "print(grouped_data)"
      ]
    },
    {
      "cell_type": "markdown",
      "metadata": {
        "id": "uJdF3TMe_TXU"
      },
      "source": [
        "# Visualizations\n",
        "\n",
        "The main purpose of this assignment is to practice creating various visualizations using the matplotlib and seaborn library.\n",
        "\n",
        "### **Part 1:**\n",
        "Using matplotlib, create ***two or more plots*** that incorporate at least **5** of the following properties:\n",
        "\n",
        "Note: these properties vary based on your data.  The goal is to practice creating visualizations and modifying its properties. \n",
        "\n",
        "*   Use and change a legend position\n",
        "*   Change a legend font size\n",
        "*   Place a legend outside of the plot\n",
        "*   Create a single legend for all subplots\n",
        "*   Change the title and x/y labels\n",
        "*   Change the marker, line colors, and line width\n",
        "*   Add annotations\n",
        "*   Modify Axis Text Ticks/Labels\n",
        "*   Change size of axis Labels\n",
        "*   Your own choice not included above \n",
        "\n",
        "\n",
        "Plots that you can create **include**:\n",
        "\n",
        "*   Scatter Plot\n",
        "*   Bar plot\n",
        "*   Line Chart\n",
        "*   Multi Plots (e.g. using .subplot()\n",
        "*   Histogram\n",
        "\n",
        "You can add another plot not listed here if it works better for your data.  This is not a complete list of plots to create.\n",
        "\n",
        "### **Part 2:**\n",
        "\n",
        "Recreate the visualizations above using the Seaborn library as best as possible.  \n",
        "\n",
        "\n",
        "**You are required to explain what each of your plots is representing. Plots without comments will not be accepted.**  In addition, please explain the properties you are showcasing.\n",
        "\n",
        "\n",
        "### **Part 3:**\n",
        "In a comment or text box, explain the differences between creating a plot in matplotlib and seaborn, based on your above plots.\n",
        "\n"
      ]
    },
    {
      "cell_type": "code",
      "execution_count": 52,
      "metadata": {
        "id": "4VWWvvynEiQT"
      },
      "outputs": [],
      "source": [
        "from matplotlib import pyplot as plt"
      ]
    },
    {
      "cell_type": "markdown",
      "metadata": {},
      "source": [
        "### Plotting total crimes per year for every 10 years"
      ]
    },
    {
      "cell_type": "code",
      "execution_count": 70,
      "metadata": {
        "id": "N9sKmrIrDbhd"
      },
      "outputs": [
        {
          "data": {
            "image/png": "[encoded data removed]",
            "text/plain": [
              "<Figure size 640x480 with 1 Axes>"
            ]
          },
          "metadata": {},
          "output_type": "display_data"
        }
      ],
      "source": [
        "\n",
        "## change the marker line color and line width\n",
        "plt.plot(crimes.Year, crimes.Total, marker='o', linewidth=2, markersize=8, markerfacecolor='blue', label=\"Total crimes per year\")\n",
        "## use and change legend position, change font size, place legend outside of plot\n",
        "plt.legend(loc=\"upper left\", bbox_to_anchor=(1, 1))\n",
        "## change x and y labels\n",
        "plt.xlabel('Year (every 10)')\n",
        "plt.ylabel('Amount of crimes ')\n",
        "## change title\n",
        "plt.title(\"Crimes per year\")\n",
        "plt.show()"
      ]
    },
    {
      "cell_type": "markdown",
      "metadata": {
        "id": "vFa4bNTyDbzb"
      },
      "source": []
    },
    {
      "cell_type": "markdown",
      "metadata": {},
      "source": [
        "### Murders per year"
      ]
    },
    {
      "cell_type": "code",
      "execution_count": 71,
      "metadata": {},
      "outputs": [
        {
          "data": {
            "image/png": "[encoded data removed]",
            "text/plain": [
              "<Figure size 640x480 with 1 Axes>"
            ]
          },
          "metadata": {},
          "output_type": "display_data"
        }
      ],
      "source": [
        "## change the marker line color and line width\n",
        "plt.bar(crimes.Year, crimes.Murder, color='blue', width=0.8, label=\"Total murders per year\")\n",
        "## use and change legend position, change font size, place legend outside of plot\n",
        "plt.legend(loc=\"upper right\", bbox_to_anchor=(1.25, 1), fontsize='12')\n",
        "## change x and y labels\n",
        "plt.xlabel('Year (every 10)')\n",
        "plt.ylabel('Amount of murders ')\n",
        "## change title\n",
        "plt.title(\"Murders per year\")\n",
        "plt.show()"
      ]
    },
    {
      "cell_type": "markdown",
      "metadata": {},
      "source": [
        "### Part 2: Recreate using Seaborn"
      ]
    },
    {
      "cell_type": "code",
      "execution_count": null,
      "metadata": {},
      "outputs": [],
      "source": [
        "import seaborn as sns\n",
        "# Set Seaborn style\n",
        "sns.set(style=\"whitegrid\")\n",
        "\n",
        "# Create a line plot with custom properties using sns.lineplot\n",
        "sns.lineplot(x='Year', y='Total', data=crimes, marker='o', markersize=8, color='blue', label=\"Total crimes per year\")\n",
        "\n",
        "# Customize legend position, font size, and place legend outside of the plot\n",
        "plt.legend(loc=\"upper left\", bbox_to_anchor=(1, 1))\n",
        "\n",
        "# Customize x and y labels\n",
        "plt.xlabel('Year (every 10)')\n",
        "plt.ylabel('Amount of crimes')\n",
        "\n",
        "# Customize title\n",
        "plt.title(\"Crimes per year\")\n",
        "\n",
        "# Show the plot\n",
        "plt.show()"
      ]
    },
    {
      "cell_type": "markdown",
      "metadata": {},
      "source": [
        "### Part 3 seaborn vs matplotlib"
      ]
    },
    {
      "cell_type": "markdown",
      "metadata": {},
      "source": [
        "\n",
        "Seaborn makes plots look nicer with less code, using a clean style set at the start. It uses sns.lineplot for the plot itself, and you don't need as many details. Matplotlib has more options for customization but requires more detailed coding. Both libraries use plt.legend and bbox_to_anchor for legends, placing them outside the plot. While Seaborn simplifies the process, Matplotlib offers more control over fine-tuning plot appearance."
      ]
    },
    {
      "cell_type": "markdown",
      "metadata": {
        "id": "tujjevRpXEen"
      },
      "source": [
        "# Conclusions  \n",
        "\n",
        "After exploring your dataset, provide a short summary of what you noticed from this dataset.  "
      ]
    },
    {
      "cell_type": "markdown",
      "metadata": {},
      "source": [
        "I noticed that there was a steady increase in crimes from 1960 to about 1990 where the spike is around and then it began to gradually decrease towards 2000 and onwards. The same applies for the murders in the line plot, there was a big spike at around 1990, then it began to decrease onwards. The downward trend is reassuring because it may lead to saftety in america."
      ]
    }
  ],
  "metadata": {
    "colab": {
      "name": "08_assignment.ipynb",
      "provenance": []
    },
    "kernelspec": {
      "display_name": "Python 3",
      "name": "python3"
    },
    "language_info": {
      "codemirror_mode": {
        "name": "ipython",
        "version": 3
      },
      "file_extension": ".py",
      "mimetype": "text/x-python",
      "name": "python",
      "nbconvert_exporter": "python",
      "pygments_lexer": "ipython3",
      "version": "3.11.6"
    }
  },
  "nbformat": 4,
  "nbformat_minor": 0
}
